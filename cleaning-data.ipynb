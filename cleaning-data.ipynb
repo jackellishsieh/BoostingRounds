{
 "cells": [
  {
   "cell_type": "code",
   "execution_count": 3,
   "metadata": {},
   "outputs": [],
   "source": [
    "import pandas as pd"
   ]
  },
  {
   "cell_type": "markdown",
   "metadata": {},
   "source": [
    "This dataset is dedicated to cleaning datasets, somewhat ad hoc, by removing outliers and making sure the label column is of name \"label\" and of integer type\n",
    "This should only have to be run once for each dataset"
   ]
  },
  {
   "cell_type": "markdown",
   "metadata": {},
   "source": [
    "# Mammographic classification dataset\n",
    "4 features, binary classification"
   ]
  },
  {
   "cell_type": "code",
   "execution_count": null,
   "metadata": {},
   "outputs": [
    {
     "name": "stdout",
     "output_type": "stream",
     "text": [
      "# complete entries = 829, # incomplete entries = 1\n"
     ]
    }
   ],
   "source": [
    "# Import the chosen data into a pandas frame\n",
    "raw_df = pd.read_csv(\"mammographic/mammographic.csv\")\n",
    "\n",
    "# Process by \n",
    "# 1. replacing \"?\" with Na\n",
    "# 2. renaming the last column to \"label\"\n",
    "processed_df = raw_df.copy()\n",
    "processed_df.replace(\"?\", pd.NA, inplace=True)\n",
    "processed_df.rename(columns={processed_df.columns[-1]: \"label\"}, inplace=True)\n",
    "\n",
    "# For the mammographic dataset, remove an existing outlier\n",
    "processed_df.drop(index=257,inplace=True)\n",
    "\n",
    "# Filter out incomplete rows\n",
    "complete_df = processed_df.dropna()\n",
    "print(f\"# preserved entries = {len(complete_df)}, # removed entries = {len(raw_df) - len(complete_df)}\")\n",
    "\n",
    "# Write to cleaned dataset\n",
    "complete_df.to_csv(\"cleaned-datasets/mammographic.csv\")\n",
    "\n",
    "# # Split into test and train datasets\n",
    "# train_df, test_df = sklearn.model_selection.train_test_split(complete_df, test_size = 0.3, random_state=0)\n",
    "\n",
    "\n",
    "# def get_X_y (df):\n",
    "#     return (df.drop(\"label\", axis = 1), df[\"label\"])\n",
    "\n",
    "# X_train, y_train = get_X_y(train_df)\n",
    "# X_test, y_test = get_X_y(test_df)\n",
    "\n",
    "# print(f\"y_train: {y_train.value_counts()}\")\n",
    "# print(f\"y_test: {y_test.value_counts()}\")"
   ]
  },
  {
   "cell_type": "code",
   "execution_count": null,
   "metadata": {},
   "outputs": [],
   "source": []
  }
 ],
 "metadata": {
  "kernelspec": {
   "display_name": "CS229ProjectEnv",
   "language": "python",
   "name": "python3"
  },
  "language_info": {
   "codemirror_mode": {
    "name": "ipython",
    "version": 3
   },
   "file_extension": ".py",
   "mimetype": "text/x-python",
   "name": "python",
   "nbconvert_exporter": "python",
   "pygments_lexer": "ipython3",
   "version": "3.13.0"
  }
 },
 "nbformat": 4,
 "nbformat_minor": 2
}
